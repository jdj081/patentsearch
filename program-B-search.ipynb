{
 "metadata": {
  "name": ""
 },
 "nbformat": 3,
 "nbformat_minor": 0,
 "worksheets": [
  {
   "cells": [
    {
     "cell_type": "code",
     "collapsed": false,
     "input": [
      "import urllib2, os, zipfile, time, shelve\n",
      "from lxml import etree\n",
      "import patenthelper as ph\n",
      "from patenthelper import Patent, PatentSearch"
     ],
     "language": "python",
     "metadata": {},
     "outputs": [],
     "prompt_number": 1
    },
    {
     "cell_type": "code",
     "collapsed": false,
     "input": [
      "sst=PatentSearch()"
     ],
     "language": "python",
     "metadata": {},
     "outputs": [],
     "prompt_number": 2
    },
    {
     "cell_type": "code",
     "collapsed": false,
     "input": [
      "sst.add_classification('440 38')\n",
      "sst.add_classification('440 40')\n",
      "sst.add_classification('440 42')\n",
      "sst.add_classification('440  1')\n",
      "sst.add_classification('440 23')\n",
      "sst.add_classification('114255')\n",
      "sst.add_classification('114364')\n",
      "sst.add_classification('114343')\n",
      "sst.add_classification('114351')\n",
      "##sst.add_classification('\n"
     ],
     "language": "python",
     "metadata": {},
     "outputs": [],
     "prompt_number": 3
    },
    {
     "cell_type": "raw",
     "metadata": {},
     "source": [
      "print sst.classifications"
     ]
    },
    {
     "cell_type": "code",
     "collapsed": false,
     "input": [
      "shelf_files = ['patent_data/patents2005.shlf','patent_data/patents2006.shlf','patent_data/patents2007.shlf',\n",
      "               'patent_data/patents2008.shlf','patent_data/patents2009.shlf','patent_data/patents2010.shlf',\n",
      "               'patent_data/patents2011.shlf','patent_data/patents2012.shlf','patent_data/patents2013.shlf',\n",
      "               'patent_data/patents2014.shlf']\n",
      "t_zero = time.time()\n",
      "for shelf_file in shelf_files:\n",
      "    #print shelf_file,\n",
      "    data = shelve.open(shelf_file,'r')\n",
      "    for k in data:\n",
      "        if sst.num_rel_classes(data[k]) > 0:\n",
      "            try:\n",
      "                sst.candidates[k][0] = sst.num_rel_classes(data[k])\n",
      "            except KeyError:\n",
      "                sst.candidates[k] = [sst.num_rel_classes(data[k]),0,0]\n",
      "        if sst.num_rel_classes(data[k]) > 1:\n",
      "            print sst.num_rel_classes(data[k]),\n",
      "            print k,\n",
      "            print shelf_file[-9:-5],\n",
      "            print data[k].title\n",
      "print time.time() - t_zero,'seconds'"
     ],
     "language": "python",
     "metadata": {},
     "outputs": [
      {
       "output_type": "stream",
       "stream": "stdout",
       "text": [
        "2 US06923134 2005 Hinged wireway for personal watercraft\n",
        "2"
       ]
      },
      {
       "output_type": "stream",
       "stream": "stdout",
       "text": [
        " US06872105 2005 Watercraft having a jet propulsion system with improved efficiency\n",
        "2"
       ]
      },
      {
       "output_type": "stream",
       "stream": "stdout",
       "text": [
        " US06941886 2005 Marine pest deterrent\n",
        "2"
       ]
      },
      {
       "output_type": "stream",
       "stream": "stdout",
       "text": [
        " US06935264 2005 System for refueling a marine vehicle without spillage\n",
        "2"
       ]
      },
      {
       "output_type": "stream",
       "stream": "stdout",
       "text": [
        " US06907326 2005 Autonomous surf zone line charge deployment system\n",
        "2"
       ]
      },
      {
       "output_type": "stream",
       "stream": "stdout",
       "text": [
        " US06866001 2005 Boat fold-away transport platform\n",
        "2"
       ]
      },
      {
       "output_type": "stream",
       "stream": "stdout",
       "text": [
        " US06905378 2005 Engine control unit\n",
        "2"
       ]
      },
      {
       "output_type": "stream",
       "stream": "stdout",
       "text": [
        " US06856882 2005 Device for recognizing the risk of aquaplaning which can occur during the driving of a vehicle\n",
        "2"
       ]
      },
      {
       "output_type": "stream",
       "stream": "stdout",
       "text": [
        " US07018251 2006 Trim operating wire structure for personal watercraft\n",
        "2"
       ]
      },
      {
       "output_type": "stream",
       "stream": "stdout",
       "text": [
        " US07122117 2006 Self-cleaning composite deck drain\n",
        "2 US07013831 2006 Twist on mounting device for boat deck\n",
        "2"
       ]
      },
      {
       "output_type": "stream",
       "stream": "stdout",
       "text": [
        " US06981463 2006 Bow eye seal\n",
        "2"
       ]
      },
      {
       "output_type": "stream",
       "stream": "stdout",
       "text": [
        " US07048598 2006 Jet propulsion boat\n",
        "2"
       ]
      },
      {
       "output_type": "stream",
       "stream": "stdout",
       "text": [
        " US07108569 2006 Axial flow pump or marine propulsion device\n",
        "2"
       ]
      },
      {
       "output_type": "stream",
       "stream": "stdout",
       "text": [
        " US07302900 2007 System for attaching fenders and the like to boats\n",
        "2"
       ]
      },
      {
       "output_type": "stream",
       "stream": "stdout",
       "text": [
        " US07223138 2007 Water jet propeller\n",
        "2"
       ]
      },
      {
       "output_type": "stream",
       "stream": "stdout",
       "text": [
        " US07255059 2007 Adjustable adapter assembly\n",
        "2"
       ]
      },
      {
       "output_type": "stream",
       "stream": "stdout",
       "text": [
        " US07210871 2007 Swivelling fittings\n",
        "2"
       ]
      },
      {
       "output_type": "stream",
       "stream": "stdout",
       "text": [
        " US07174842 2007 Boat propulsion system\n",
        "2"
       ]
      },
      {
       "output_type": "stream",
       "stream": "stdout",
       "text": [
        " US07444953 2008 Removable transom lights\n",
        "2"
       ]
      },
      {
       "output_type": "stream",
       "stream": "stdout",
       "text": [
        " US07341017 2008 Hydraulically locked boat accessory mounting device\n",
        "2"
       ]
      },
      {
       "output_type": "stream",
       "stream": "stdout",
       "text": [
        " US07387552 2008 Trim adjusting device for small surface boat\n",
        "2"
       ]
      },
      {
       "output_type": "stream",
       "stream": "stdout",
       "text": [
        " US07396268 2008 Safety signaling apparatus for watercraft\n",
        "2"
       ]
      },
      {
       "output_type": "stream",
       "stream": "stdout",
       "text": [
        " US07367279 2008 Stackable support shock absorbing platform\n",
        "2"
       ]
      },
      {
       "output_type": "stream",
       "stream": "stdout",
       "text": [
        " US07343870 2008 Combination boat hawse pipe and accessory tray\n",
        "2"
       ]
      },
      {
       "output_type": "stream",
       "stream": "stdout",
       "text": [
        " US07458334 2008 Portable and stowable safety device\n",
        "2"
       ]
      },
      {
       "output_type": "stream",
       "stream": "stdout",
       "text": [
        " US07364480 2008 Engine output control system for water jet propulsion boat\n",
        "2 US07364481 2008 Jet-propelled watercraft\n",
        "2"
       ]
      },
      {
       "output_type": "stream",
       "stream": "stdout",
       "text": [
        " US07527012 2009 Paddle clip and method for using same\n",
        "2"
       ]
      },
      {
       "output_type": "stream",
       "stream": "stdout",
       "text": [
        " US07601040 2009 Method and apparatus for controlling a marine vessel\n",
        "2"
       ]
      },
      {
       "output_type": "stream",
       "stream": "stdout",
       "text": [
        " US07520236 2009 Elevated water sport tow extension apparatus\n",
        "2"
       ]
      },
      {
       "output_type": "stream",
       "stream": "stdout",
       "text": [
        " US07670201 2010 Adjustable rigging system for a rowing boat\n",
        "2"
       ]
      },
      {
       "output_type": "stream",
       "stream": "stdout",
       "text": [
        " US07753746 2010 Dual steering nozzle marine jet propulsion system\n",
        "2"
       ]
      },
      {
       "output_type": "stream",
       "stream": "stdout",
       "text": [
        " US07644674 2010 Marine vessel stabilization system\n",
        "2"
       ]
      },
      {
       "output_type": "stream",
       "stream": "stdout",
       "text": [
        " US07650847 2010 Watercraft stabilization system\n",
        "2"
       ]
      },
      {
       "output_type": "stream",
       "stream": "stdout",
       "text": [
        " US07721670 2010 Kayak having deck fairing\n",
        "2"
       ]
      },
      {
       "output_type": "stream",
       "stream": "stdout",
       "text": [
        " US07775844 2010 Electronically assisted reverse gate system for a jet propulsion watercraft\n",
        "2"
       ]
      },
      {
       "output_type": "stream",
       "stream": "stdout",
       "text": [
        " US07674144 2010 Reverse gate for jet propelled watercraft\n",
        "2"
       ]
      },
      {
       "output_type": "stream",
       "stream": "stdout",
       "text": [
        " US07762206 2010 Universal water sport tow attachment and system\n",
        "2"
       ]
      },
      {
       "output_type": "stream",
       "stream": "stdout",
       "text": [
        " US07654242 2010 Multiple-cylinder engine for planing water vehicle\n",
        "2"
       ]
      },
      {
       "output_type": "stream",
       "stream": "stdout",
       "text": [
        " US07717054 2010 Moving mechanism for cruiser arch\n",
        "3"
       ]
      },
      {
       "output_type": "stream",
       "stream": "stdout",
       "text": [
        " US07708609 2010 Watercraft reverse gate operation\n",
        "2 US07785162 2010 System and related methods for marine transportation\n",
        "2"
       ]
      },
      {
       "output_type": "stream",
       "stream": "stdout",
       "text": [
        " US08075355 2011 Marine jet propulsion steering system\n",
        "2"
       ]
      },
      {
       "output_type": "stream",
       "stream": "stdout",
       "text": [
        " US07892053 2011 Commonly actuated trim and reverse system for a jet propulsion watercraft\n",
        "2"
       ]
      },
      {
       "output_type": "stream",
       "stream": "stdout",
       "text": [
        " US08286572 2012 Fishing rod holding system\n",
        "2"
       ]
      },
      {
       "output_type": "stream",
       "stream": "stdout",
       "text": [
        " US08262424 2012 System and related methods for marine transportation\n",
        "2"
       ]
      },
      {
       "output_type": "stream",
       "stream": "stdout",
       "text": [
        " US08196542 2012 Water sports foldable towing apparatus and method\n",
        "2"
       ]
      },
      {
       "output_type": "stream",
       "stream": "stdout",
       "text": [
        " US08281732 2012 Boat conversion towers\n",
        "2"
       ]
      },
      {
       "output_type": "stream",
       "stream": "stdout",
       "text": [
        " US08142241 2012 Water jet propulsion watercraft\n",
        "2"
       ]
      },
      {
       "output_type": "stream",
       "stream": "stdout",
       "text": [
        " US08459197 2013 Apparatus to track movement of a skier\n",
        "2"
       ]
      },
      {
       "output_type": "stream",
       "stream": "stdout",
       "text": [
        " US08490558 2013 Watercraft steering and thrust control system\n",
        "2"
       ]
      },
      {
       "output_type": "stream",
       "stream": "stdout",
       "text": [
        " US08555801 2013 Watercraft helm support structure and deck\n",
        "2 US08555802 2013 Water sports foldable towing apparatus and method\n",
        "2"
       ]
      },
      {
       "output_type": "stream",
       "stream": "stdout",
       "text": [
        " US08480445 2013 System and method for controlling a marine vessel\n",
        "2"
       ]
      },
      {
       "output_type": "stream",
       "stream": "stdout",
       "text": [
        " US08430051 2013 Electronics pedestal for boats\n",
        "2"
       ]
      },
      {
       "output_type": "stream",
       "stream": "stdout",
       "text": [
        " US08516971 2013 Modular configurable marine utility vessel\n",
        "2"
       ]
      },
      {
       "output_type": "stream",
       "stream": "stdout",
       "text": [
        " US08534212 2013 Pontoon boat fender and method of using the same\n",
        "2"
       ]
      },
      {
       "output_type": "stream",
       "stream": "stdout",
       "text": [
        " US08646430 2014 Small planing boat\n",
        "2"
       ]
      },
      {
       "output_type": "stream",
       "stream": "stdout",
       "text": [
        " US08689722 2014 Apparatus for holding fishing nets outside a boat\n",
        "3"
       ]
      },
      {
       "output_type": "stream",
       "stream": "stdout",
       "text": [
        " US08668533 2014 Waterjet propulsion system and method for a marine vehicle\n",
        "319.819999933"
       ]
      },
      {
       "output_type": "stream",
       "stream": "stdout",
       "text": [
        " seconds\n"
       ]
      }
     ],
     "prompt_number": 4
    },
    {
     "cell_type": "code",
     "collapsed": false,
     "input": [
      "print len(sst.candidates)\n",
      "print sst.candidates['US08668533']"
     ],
     "language": "python",
     "metadata": {},
     "outputs": [
      {
       "output_type": "stream",
       "stream": "stdout",
       "text": [
        "645\n",
        "[3, 0, 0]\n"
       ]
      }
     ],
     "prompt_number": 5
    },
    {
     "cell_type": "raw",
     "metadata": {},
     "source": [
      "data = shelve.open('patent_data/patents2010.shlf','r')\n",
      "print data['US07708609'].classes"
     ]
    },
    {
     "cell_type": "raw",
     "metadata": {},
     "source": [
      "data = shelve.open('patent_data/patents2014.shlf','r')\n",
      "print data['US08668533'].classes"
     ]
    },
    {
     "cell_type": "code",
     "collapsed": false,
     "input": [
      "sst.patents.add('US08668533')\n",
      "del sst.candidates['US08668533']\n",
      "print sst.patents"
     ],
     "language": "python",
     "metadata": {},
     "outputs": [
      {
       "output_type": "stream",
       "stream": "stdout",
       "text": [
        "set(['US08668533'])\n"
       ]
      }
     ],
     "prompt_number": 6
    },
    {
     "cell_type": "code",
     "collapsed": false,
     "input": [
      "for k in sst.patents:\n",
      "    for shelf_file in shelf_files:\n",
      "        data = shelve.open(shelf_file,'r')\n",
      "        if k in data:\n",
      "            for c in data[k].citing:\n",
      "                if c in sst.patents: \n",
      "                    print 'a', c\n",
      "                elif c in sst.candidates:\n",
      "                    sst.candidates[c][1] += 1\n",
      "                    print 'b', c\n",
      "                else:\n",
      "                    sst.candidates[c] = [0,1,0]\n",
      "                    print 'c', c"
     ],
     "language": "python",
     "metadata": {},
     "outputs": [
      {
       "output_type": "stream",
       "stream": "stdout",
       "text": [
        "c US5752862\n",
        "c US2005/0159052\n",
        "c US6626713\n",
        "c US5967864\n",
        "c US5634831\n",
        "c US6193570\n",
        "c US3985094\n",
        "c US6524068\n",
        "c US6022250\n",
        "c US5800222\n",
        "c US7442103\n"
       ]
      }
     ],
     "prompt_number": 7
    },
    {
     "cell_type": "code",
     "collapsed": false,
     "input": [
      "for i in sst.candidates:\n",
      "    if sst.candidates[i][1] > 0 or sst.candidates[i][0] > 1:\n",
      "        print sst.candidates[i],\n",
      "        print i"
     ],
     "language": "python",
     "metadata": {},
     "outputs": [
      {
       "output_type": "stream",
       "stream": "stdout",
       "text": [
        "[2, 0, 0] US07387552\n",
        "[2, 0, 0] US06907326\n",
        "[2, 0, 0] US08075355\n",
        "[0, 1, 0] US6626713\n",
        "[2, 0, 0] US07892053\n",
        "[2, 0, 0] US08142241\n",
        "[0, 1, 0] US2005/0159052\n",
        "[2, 0, 0] US07601040\n",
        "[2, 0, 0] US08430051\n",
        "[2, 0, 0] US07210871\n",
        "[0, 1, 0] US5752862\n",
        "[2, 0, 0] US07364480\n",
        "[2, 0, 0] US07364481\n",
        "[2, 0, 0] US06866001\n",
        "[2, 0, 0] US07108569\n",
        "[2, 0, 0] US08689722\n",
        "[2, 0, 0] US08459197\n",
        "[2, 0, 0] US06941886\n",
        "[3, 0, 0] US07708609\n",
        "[2, 0, 0] US07650847\n",
        "[2, 0, 0] US08286572\n",
        "[2, 0, 0] US07122117\n",
        "[0, 1, 0] US3985094\n",
        "[2, 0, 0] US08516971\n",
        "[2, 0, 0] US07302900\n",
        "[2, 0, 0] US07721670\n",
        "[2, 0, 0] US08555802\n",
        "[2, 0, 0] US08555801\n",
        "[2, 0, 0] US07174842\n",
        "[2, 0, 0] US07670201\n",
        "[0, 1, 0] US5800222\n",
        "[0, 1, 0] US7442103\n",
        "[2, 0, 0] US06935264\n",
        "[2, 0, 0] US06981463\n",
        "[2, 0, 0] US07444953\n",
        "[0, 1, 0] US5967864\n",
        "[2, 0, 0] US07341017\n",
        "[0, 1, 0] US5634831\n",
        "[2, 0, 0] US07048598\n",
        "[2, 0, 0] US08262424\n",
        "[2, 0, 0] US07785162\n",
        "[2, 0, 0] US06923134\n",
        "[2, 0, 0] US07527012\n",
        "[2, 0, 0] US07520236\n",
        "[2, 0, 0] US08646430\n",
        "[2, 0, 0] US07343870\n",
        "[2, 0, 0] US07753746\n",
        "[2, 0, 0] US07255059\n",
        "[2, 0, 0] US07458334\n",
        "[2, 0, 0] US08480445\n",
        "[2, 0, 0] US07775844\n",
        "[0, 1, 0] US6524068\n",
        "[2, 0, 0] US07762206\n",
        "[2, 0, 0] US08490558\n",
        "[2, 0, 0] US07396268\n",
        "[2, 0, 0] US07223138\n",
        "[2, 0, 0] US07644674\n",
        "[2, 0, 0] US06872105\n",
        "[2, 0, 0] US08281732\n",
        "[2, 0, 0] US08196542\n",
        "[2, 0, 0] US07674144\n",
        "[2, 0, 0] US07717054\n",
        "[2, 0, 0] US06856882\n",
        "[0, 1, 0] US6022250\n",
        "[0, 1, 0] US6193570\n",
        "[2, 0, 0] US07654242\n",
        "[2, 0, 0] US07018251\n",
        "[2, 0, 0] US06905378\n",
        "[2, 0, 0] US07367279\n",
        "[2, 0, 0] US07013831\n",
        "[2, 0, 0] US08534212\n"
       ]
      }
     ],
     "prompt_number": 8
    },
    {
     "cell_type": "raw",
     "metadata": {},
     "source": [
      "print sst.classifications\n",
      "data = shelve.open('patent_data/patents2008.shlf','r')\n",
      "x = [(data[k].patnum,data[k].title) for k in data if '440 38' in data[k].classes]\n",
      "x = [(data[k].patnum,data[k].classes) for k in data if len(data[k].classes.intersection(sst.classifications)) > 0]\n",
      "print len(x)\n",
      "print len(data['US07445531'].classes.intersection(sst.classifications))"
     ]
    },
    {
     "cell_type": "raw",
     "metadata": {},
     "source": [
      "x = set([(data[k].patnum,data[k].classes) for k in data if sst.num_rel_classes(data[k]) > 0])"
     ]
    }
   ],
   "metadata": {}
  }
 ]
}