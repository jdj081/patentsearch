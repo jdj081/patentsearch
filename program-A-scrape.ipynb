{
 "metadata": {
  "name": ""
 },
 "nbformat": 3,
 "nbformat_minor": 0,
 "worksheets": [
  {
   "cells": [
    {
     "cell_type": "code",
     "collapsed": false,
     "input": [
      "import os,shelve\n",
      "import time\n",
      "#import urllib2, zipfile,\n",
      "#from lxml import etree\n",
      "import patenthelper as ph\n",
      "from patenthelper import Patent\n",
      "os.chdir('c:/Users/Work/Documents/patent_info/patent_data')"
     ],
     "language": "python",
     "metadata": {},
     "outputs": [],
     "prompt_number": 1
    },
    {
     "cell_type": "code",
     "collapsed": false,
     "input": [
      "ph.process_one_week('ipgb20140415_wk15.zip')"
     ],
     "language": "python",
     "metadata": {},
     "outputs": []
    },
    {
     "cell_type": "code",
     "collapsed": false,
     "input": [
      "ph.process_bulk_data(2005)"
     ],
     "language": "python",
     "metadata": {},
     "outputs": [
      {
       "output_type": "stream",
       "stream": "stdout",
       "text": [
        "10 "
       ]
      },
      {
       "output_type": "stream",
       "stream": "stdout",
       "text": [
        "20 "
       ]
      },
      {
       "output_type": "stream",
       "stream": "stdout",
       "text": [
        "29 "
       ]
      },
      {
       "output_type": "stream",
       "stream": "stdout",
       "text": [
        "38 "
       ]
      },
      {
       "output_type": "stream",
       "stream": "stdout",
       "text": [
        "49 "
       ]
      },
      {
       "output_type": "stream",
       "stream": "stdout",
       "text": [
        "59 "
       ]
      },
      {
       "output_type": "stream",
       "stream": "stdout",
       "text": [
        "70 "
       ]
      },
      {
       "output_type": "stream",
       "stream": "stdout",
       "text": [
        "80 "
       ]
      },
      {
       "output_type": "stream",
       "stream": "stdout",
       "text": [
        "91 "
       ]
      },
      {
       "output_type": "stream",
       "stream": "stdout",
       "text": [
        "101 "
       ]
      },
      {
       "output_type": "stream",
       "stream": "stdout",
       "text": [
        "111 "
       ]
      },
      {
       "output_type": "stream",
       "stream": "stdout",
       "text": [
        "121 "
       ]
      },
      {
       "output_type": "stream",
       "stream": "stdout",
       "text": [
        "131 "
       ]
      },
      {
       "output_type": "stream",
       "stream": "stdout",
       "text": [
        "142 "
       ]
      },
      {
       "output_type": "stream",
       "stream": "stdout",
       "text": [
        "152 "
       ]
      },
      {
       "output_type": "stream",
       "stream": "stdout",
       "text": [
        "165 "
       ]
      },
      {
       "output_type": "stream",
       "stream": "stdout",
       "text": [
        "177 "
       ]
      },
      {
       "output_type": "stream",
       "stream": "stdout",
       "text": [
        "191 "
       ]
      },
      {
       "output_type": "stream",
       "stream": "stdout",
       "text": [
        "206 "
       ]
      },
      {
       "output_type": "stream",
       "stream": "stdout",
       "text": [
        "221 "
       ]
      },
      {
       "output_type": "stream",
       "stream": "stdout",
       "text": [
        "237 "
       ]
      },
      {
       "output_type": "stream",
       "stream": "stdout",
       "text": [
        "251 "
       ]
      },
      {
       "output_type": "stream",
       "stream": "stdout",
       "text": [
        "263 "
       ]
      },
      {
       "output_type": "stream",
       "stream": "stdout",
       "text": [
        "278 "
       ]
      },
      {
       "output_type": "stream",
       "stream": "stdout",
       "text": [
        "289 "
       ]
      },
      {
       "output_type": "stream",
       "stream": "stdout",
       "text": [
        "300 "
       ]
      },
      {
       "output_type": "stream",
       "stream": "stdout",
       "text": [
        "312 "
       ]
      },
      {
       "output_type": "stream",
       "stream": "stdout",
       "text": [
        "323 "
       ]
      },
      {
       "output_type": "stream",
       "stream": "stdout",
       "text": [
        "337 "
       ]
      },
      {
       "output_type": "stream",
       "stream": "stdout",
       "text": [
        "347 "
       ]
      },
      {
       "output_type": "stream",
       "stream": "stdout",
       "text": [
        "359 "
       ]
      },
      {
       "output_type": "stream",
       "stream": "stdout",
       "text": [
        "372 "
       ]
      },
      {
       "output_type": "stream",
       "stream": "stdout",
       "text": [
        "386 "
       ]
      },
      {
       "output_type": "stream",
       "stream": "stdout",
       "text": [
        "401 "
       ]
      },
      {
       "output_type": "stream",
       "stream": "stdout",
       "text": [
        "416 "
       ]
      },
      {
       "output_type": "stream",
       "stream": "stdout",
       "text": [
        "434 "
       ]
      },
      {
       "output_type": "stream",
       "stream": "stdout",
       "text": [
        "449 "
       ]
      },
      {
       "output_type": "stream",
       "stream": "stdout",
       "text": [
        "465 "
       ]
      },
      {
       "output_type": "stream",
       "stream": "stdout",
       "text": [
        "478 "
       ]
      },
      {
       "output_type": "stream",
       "stream": "stdout",
       "text": [
        "487 "
       ]
      },
      {
       "output_type": "stream",
       "stream": "stdout",
       "text": [
        "498 "
       ]
      },
      {
       "output_type": "stream",
       "stream": "stdout",
       "text": [
        "510 "
       ]
      },
      {
       "output_type": "stream",
       "stream": "stdout",
       "text": [
        "521 "
       ]
      },
      {
       "output_type": "stream",
       "stream": "stdout",
       "text": [
        "534 "
       ]
      },
      {
       "output_type": "stream",
       "stream": "stdout",
       "text": [
        "544 "
       ]
      },
      {
       "output_type": "stream",
       "stream": "stdout",
       "text": [
        "556 "
       ]
      },
      {
       "output_type": "stream",
       "stream": "stdout",
       "text": [
        "568 "
       ]
      },
      {
       "output_type": "stream",
       "stream": "stdout",
       "text": [
        "582 "
       ]
      },
      {
       "output_type": "stream",
       "stream": "stdout",
       "text": [
        "595 "
       ]
      },
      {
       "output_type": "stream",
       "stream": "stdout",
       "text": [
        "608 "
       ]
      },
      {
       "output_type": "stream",
       "stream": "stdout",
       "text": [
        "619 "
       ]
      },
      {
       "output_type": "stream",
       "stream": "stdout",
       "text": [
        "634 "
       ]
      },
      {
       "output_type": "stream",
       "stream": "stdout",
       "text": [
        "!\n"
       ]
      }
     ],
     "prompt_number": 2
    },
    {
     "cell_type": "code",
     "collapsed": false,
     "input": [
      "ph.process_bulk_data(2006)"
     ],
     "language": "python",
     "metadata": {},
     "outputs": [
      {
       "output_type": "stream",
       "stream": "stdout",
       "text": [
        "10 "
       ]
      },
      {
       "output_type": "stream",
       "stream": "stdout",
       "text": [
        "24 "
       ]
      },
      {
       "output_type": "stream",
       "stream": "stdout",
       "text": [
        "35 "
       ]
      },
      {
       "output_type": "stream",
       "stream": "stdout",
       "text": [
        "47 "
       ]
      },
      {
       "output_type": "stream",
       "stream": "stdout",
       "text": [
        "65 "
       ]
      },
      {
       "output_type": "stream",
       "stream": "stdout",
       "text": [
        "84 "
       ]
      },
      {
       "output_type": "stream",
       "stream": "stdout",
       "text": [
        "102 "
       ]
      },
      {
       "output_type": "stream",
       "stream": "stdout",
       "text": [
        "123 "
       ]
      },
      {
       "output_type": "stream",
       "stream": "stdout",
       "text": [
        "146 "
       ]
      },
      {
       "output_type": "stream",
       "stream": "stdout",
       "text": [
        "169 "
       ]
      },
      {
       "output_type": "stream",
       "stream": "stdout",
       "text": [
        "187 "
       ]
      },
      {
       "output_type": "stream",
       "stream": "stdout",
       "text": [
        "210 "
       ]
      },
      {
       "output_type": "stream",
       "stream": "stdout",
       "text": [
        "233 "
       ]
      },
      {
       "output_type": "stream",
       "stream": "stdout",
       "text": [
        "263 "
       ]
      },
      {
       "output_type": "stream",
       "stream": "stdout",
       "text": [
        "285 "
       ]
      },
      {
       "output_type": "stream",
       "stream": "stdout",
       "text": [
        "304 "
       ]
      },
      {
       "output_type": "stream",
       "stream": "stdout",
       "text": [
        "333 "
       ]
      },
      {
       "output_type": "stream",
       "stream": "stdout",
       "text": [
        "357 "
       ]
      },
      {
       "output_type": "stream",
       "stream": "stdout",
       "text": [
        "378 "
       ]
      },
      {
       "output_type": "stream",
       "stream": "stdout",
       "text": [
        "396 "
       ]
      },
      {
       "output_type": "stream",
       "stream": "stdout",
       "text": [
        "418 "
       ]
      },
      {
       "output_type": "stream",
       "stream": "stdout",
       "text": [
        "439 "
       ]
      },
      {
       "output_type": "stream",
       "stream": "stdout",
       "text": [
        "460 "
       ]
      },
      {
       "output_type": "stream",
       "stream": "stdout",
       "text": [
        "480 "
       ]
      },
      {
       "output_type": "stream",
       "stream": "stdout",
       "text": [
        "498 "
       ]
      },
      {
       "output_type": "stream",
       "stream": "stdout",
       "text": [
        "521 "
       ]
      },
      {
       "output_type": "stream",
       "stream": "stdout",
       "text": [
        "543 "
       ]
      },
      {
       "output_type": "stream",
       "stream": "stdout",
       "text": [
        "566 "
       ]
      },
      {
       "output_type": "stream",
       "stream": "stdout",
       "text": [
        "587 "
       ]
      },
      {
       "output_type": "stream",
       "stream": "stdout",
       "text": [
        "602 "
       ]
      },
      {
       "output_type": "stream",
       "stream": "stdout",
       "text": [
        "622 "
       ]
      },
      {
       "output_type": "stream",
       "stream": "stdout",
       "text": [
        "643 "
       ]
      },
      {
       "output_type": "stream",
       "stream": "stdout",
       "text": [
        "664 "
       ]
      },
      {
       "output_type": "stream",
       "stream": "stdout",
       "text": [
        "686 "
       ]
      },
      {
       "output_type": "stream",
       "stream": "stdout",
       "text": [
        "707 "
       ]
      },
      {
       "output_type": "stream",
       "stream": "stdout",
       "text": [
        "729 "
       ]
      },
      {
       "output_type": "stream",
       "stream": "stdout",
       "text": [
        "751 "
       ]
      },
      {
       "output_type": "stream",
       "stream": "stdout",
       "text": [
        "774 "
       ]
      },
      {
       "output_type": "stream",
       "stream": "stdout",
       "text": [
        "789 "
       ]
      },
      {
       "output_type": "stream",
       "stream": "stdout",
       "text": [
        "810 "
       ]
      },
      {
       "output_type": "stream",
       "stream": "stdout",
       "text": [
        "830 "
       ]
      },
      {
       "output_type": "stream",
       "stream": "stdout",
       "text": [
        "852 "
       ]
      },
      {
       "output_type": "stream",
       "stream": "stdout",
       "text": [
        "871 "
       ]
      },
      {
       "output_type": "stream",
       "stream": "stdout",
       "text": [
        "891 "
       ]
      },
      {
       "output_type": "stream",
       "stream": "stdout",
       "text": [
        "911 "
       ]
      },
      {
       "output_type": "stream",
       "stream": "stdout",
       "text": [
        "930 "
       ]
      },
      {
       "output_type": "stream",
       "stream": "stdout",
       "text": [
        "949 "
       ]
      },
      {
       "output_type": "stream",
       "stream": "stdout",
       "text": [
        "969 "
       ]
      },
      {
       "output_type": "stream",
       "stream": "stdout",
       "text": [
        "990 "
       ]
      },
      {
       "output_type": "stream",
       "stream": "stdout",
       "text": [
        "1012 "
       ]
      },
      {
       "output_type": "stream",
       "stream": "stdout",
       "text": [
        "1027 "
       ]
      },
      {
       "output_type": "stream",
       "stream": "stdout",
       "text": [
        "1047 "
       ]
      },
      {
       "output_type": "stream",
       "stream": "stdout",
       "text": [
        "!\n"
       ]
      }
     ],
     "prompt_number": 3
    },
    {
     "cell_type": "code",
     "collapsed": false,
     "input": [
      "ph.process_bulk_data(2007)"
     ],
     "language": "python",
     "metadata": {},
     "outputs": [
      {
       "output_type": "stream",
       "stream": "stdout",
       "text": [
        "19 "
       ]
      },
      {
       "output_type": "stream",
       "stream": "stdout",
       "text": [
        "41 "
       ]
      },
      {
       "output_type": "stream",
       "stream": "stdout",
       "text": [
        "55 "
       ]
      },
      {
       "output_type": "stream",
       "stream": "stdout",
       "text": [
        "73 "
       ]
      },
      {
       "output_type": "stream",
       "stream": "stdout",
       "text": [
        "95 "
       ]
      },
      {
       "output_type": "stream",
       "stream": "stdout",
       "text": [
        "112 "
       ]
      },
      {
       "output_type": "stream",
       "stream": "stdout",
       "text": [
        "133 "
       ]
      },
      {
       "output_type": "stream",
       "stream": "stdout",
       "text": [
        "155 "
       ]
      },
      {
       "output_type": "stream",
       "stream": "stdout",
       "text": [
        "176 "
       ]
      },
      {
       "output_type": "stream",
       "stream": "stdout",
       "text": [
        "198 "
       ]
      },
      {
       "output_type": "stream",
       "stream": "stdout",
       "text": [
        "220 "
       ]
      },
      {
       "output_type": "stream",
       "stream": "stdout",
       "text": [
        "240 "
       ]
      },
      {
       "output_type": "stream",
       "stream": "stdout",
       "text": [
        "260 "
       ]
      },
      {
       "output_type": "stream",
       "stream": "stdout",
       "text": [
        "281 "
       ]
      },
      {
       "output_type": "stream",
       "stream": "stdout",
       "text": [
        "304 "
       ]
      },
      {
       "output_type": "stream",
       "stream": "stdout",
       "text": [
        "327 "
       ]
      },
      {
       "output_type": "stream",
       "stream": "stdout",
       "text": [
        "347 "
       ]
      },
      {
       "output_type": "stream",
       "stream": "stdout",
       "text": [
        "369 "
       ]
      },
      {
       "output_type": "stream",
       "stream": "stdout",
       "text": [
        "390 "
       ]
      },
      {
       "output_type": "stream",
       "stream": "stdout",
       "text": [
        "411 "
       ]
      },
      {
       "output_type": "stream",
       "stream": "stdout",
       "text": [
        "435 "
       ]
      },
      {
       "output_type": "stream",
       "stream": "stdout",
       "text": [
        "460 "
       ]
      },
      {
       "output_type": "stream",
       "stream": "stdout",
       "text": [
        "486 "
       ]
      },
      {
       "output_type": "stream",
       "stream": "stdout",
       "text": [
        "513 "
       ]
      },
      {
       "output_type": "stream",
       "stream": "stdout",
       "text": [
        "533 "
       ]
      },
      {
       "output_type": "stream",
       "stream": "stdout",
       "text": [
        "560 "
       ]
      },
      {
       "output_type": "stream",
       "stream": "stdout",
       "text": [
        "587 "
       ]
      },
      {
       "output_type": "stream",
       "stream": "stdout",
       "text": [
        "615 "
       ]
      },
      {
       "output_type": "stream",
       "stream": "stdout",
       "text": [
        "645 "
       ]
      },
      {
       "output_type": "stream",
       "stream": "stdout",
       "text": [
        "672 "
       ]
      },
      {
       "output_type": "stream",
       "stream": "stdout",
       "text": [
        "694 "
       ]
      },
      {
       "output_type": "stream",
       "stream": "stdout",
       "text": [
        "722 "
       ]
      },
      {
       "output_type": "stream",
       "stream": "stdout",
       "text": [
        "753 "
       ]
      },
      {
       "output_type": "stream",
       "stream": "stdout",
       "text": [
        "784 "
       ]
      },
      {
       "output_type": "stream",
       "stream": "stdout",
       "text": [
        "813 "
       ]
      },
      {
       "output_type": "stream",
       "stream": "stdout",
       "text": [
        "842 "
       ]
      },
      {
       "output_type": "stream",
       "stream": "stdout",
       "text": [
        "868 "
       ]
      },
      {
       "output_type": "stream",
       "stream": "stdout",
       "text": [
        "896 "
       ]
      },
      {
       "output_type": "stream",
       "stream": "stdout",
       "text": [
        "919 "
       ]
      },
      {
       "output_type": "stream",
       "stream": "stdout",
       "text": [
        "945 "
       ]
      },
      {
       "output_type": "stream",
       "stream": "stdout",
       "text": [
        "973 "
       ]
      },
      {
       "output_type": "stream",
       "stream": "stdout",
       "text": [
        "998 "
       ]
      },
      {
       "output_type": "stream",
       "stream": "stdout",
       "text": [
        "1025 "
       ]
      },
      {
       "output_type": "stream",
       "stream": "stdout",
       "text": [
        "1051 "
       ]
      },
      {
       "output_type": "stream",
       "stream": "stdout",
       "text": [
        "1081 "
       ]
      },
      {
       "output_type": "stream",
       "stream": "stdout",
       "text": [
        "1111 "
       ]
      },
      {
       "output_type": "stream",
       "stream": "stdout",
       "text": [
        "1144 "
       ]
      },
      {
       "output_type": "stream",
       "stream": "stdout",
       "text": [
        "1172 "
       ]
      },
      {
       "output_type": "stream",
       "stream": "stdout",
       "text": [
        "1200 "
       ]
      },
      {
       "output_type": "stream",
       "stream": "stdout",
       "text": [
        "1230 "
       ]
      },
      {
       "output_type": "stream",
       "stream": "stdout",
       "text": [
        "1251 "
       ]
      },
      {
       "output_type": "stream",
       "stream": "stdout",
       "text": [
        "1283 "
       ]
      },
      {
       "output_type": "stream",
       "stream": "stdout",
       "text": [
        "!\n"
       ]
      }
     ],
     "prompt_number": 4
    },
    {
     "cell_type": "code",
     "collapsed": false,
     "input": [
      "ph.process_bulk_data(2008)"
     ],
     "language": "python",
     "metadata": {},
     "outputs": [
      {
       "output_type": "stream",
       "stream": "stdout",
       "text": [
        "20 "
       ]
      },
      {
       "output_type": "stream",
       "stream": "stdout",
       "text": [
        "40 "
       ]
      },
      {
       "output_type": "stream",
       "stream": "stdout",
       "text": [
        "58 "
       ]
      },
      {
       "output_type": "stream",
       "stream": "stdout",
       "text": [
        "77 "
       ]
      },
      {
       "output_type": "stream",
       "stream": "stdout",
       "text": [
        "110 "
       ]
      },
      {
       "output_type": "stream",
       "stream": "stdout",
       "text": [
        "140 "
       ]
      },
      {
       "output_type": "stream",
       "stream": "stdout",
       "text": [
        "164 "
       ]
      },
      {
       "output_type": "stream",
       "stream": "stdout",
       "text": [
        "192 "
       ]
      },
      {
       "output_type": "stream",
       "stream": "stdout",
       "text": [
        "220 "
       ]
      },
      {
       "output_type": "stream",
       "stream": "stdout",
       "text": [
        "251 "
       ]
      },
      {
       "output_type": "stream",
       "stream": "stdout",
       "text": [
        "280 "
       ]
      },
      {
       "output_type": "stream",
       "stream": "stdout",
       "text": [
        "316 "
       ]
      },
      {
       "output_type": "stream",
       "stream": "stdout",
       "text": [
        "350 "
       ]
      },
      {
       "output_type": "stream",
       "stream": "stdout",
       "text": [
        "382 "
       ]
      },
      {
       "output_type": "stream",
       "stream": "stdout",
       "text": [
        "414 "
       ]
      },
      {
       "output_type": "stream",
       "stream": "stdout",
       "text": [
        "448 "
       ]
      },
      {
       "output_type": "stream",
       "stream": "stdout",
       "text": [
        "482 "
       ]
      },
      {
       "output_type": "stream",
       "stream": "stdout",
       "text": [
        "521 "
       ]
      },
      {
       "output_type": "stream",
       "stream": "stdout",
       "text": [
        "555 "
       ]
      },
      {
       "output_type": "stream",
       "stream": "stdout",
       "text": [
        "580 "
       ]
      },
      {
       "output_type": "stream",
       "stream": "stdout",
       "text": [
        "602 "
       ]
      },
      {
       "output_type": "stream",
       "stream": "stdout",
       "text": [
        "625 "
       ]
      },
      {
       "output_type": "stream",
       "stream": "stdout",
       "text": [
        "648 "
       ]
      },
      {
       "output_type": "stream",
       "stream": "stdout",
       "text": [
        "672 "
       ]
      },
      {
       "output_type": "stream",
       "stream": "stdout",
       "text": [
        "693 "
       ]
      },
      {
       "output_type": "stream",
       "stream": "stdout",
       "text": [
        "716 "
       ]
      },
      {
       "output_type": "stream",
       "stream": "stdout",
       "text": [
        "739 "
       ]
      },
      {
       "output_type": "stream",
       "stream": "stdout",
       "text": [
        "766 "
       ]
      },
      {
       "output_type": "stream",
       "stream": "stdout",
       "text": [
        "789 "
       ]
      },
      {
       "output_type": "stream",
       "stream": "stdout",
       "text": [
        "809 "
       ]
      },
      {
       "output_type": "stream",
       "stream": "stdout",
       "text": [
        "832 "
       ]
      },
      {
       "output_type": "stream",
       "stream": "stdout",
       "text": [
        "860 "
       ]
      },
      {
       "output_type": "stream",
       "stream": "stdout",
       "text": [
        "887 "
       ]
      },
      {
       "output_type": "stream",
       "stream": "stdout",
       "text": [
        "916 "
       ]
      },
      {
       "output_type": "stream",
       "stream": "stdout",
       "text": [
        "944 "
       ]
      },
      {
       "output_type": "stream",
       "stream": "stdout",
       "text": [
        "973 "
       ]
      },
      {
       "output_type": "stream",
       "stream": "stdout",
       "text": [
        "1005 "
       ]
      },
      {
       "output_type": "stream",
       "stream": "stdout",
       "text": [
        "1027 "
       ]
      },
      {
       "output_type": "stream",
       "stream": "stdout",
       "text": [
        "1046 "
       ]
      },
      {
       "output_type": "stream",
       "stream": "stdout",
       "text": [
        "1065 "
       ]
      },
      {
       "output_type": "stream",
       "stream": "stdout",
       "text": [
        "1094 "
       ]
      },
      {
       "output_type": "stream",
       "stream": "stdout",
       "text": [
        "1124 "
       ]
      },
      {
       "output_type": "stream",
       "stream": "stdout",
       "text": [
        "1152 "
       ]
      },
      {
       "output_type": "stream",
       "stream": "stdout",
       "text": [
        "1181 "
       ]
      },
      {
       "output_type": "stream",
       "stream": "stdout",
       "text": [
        "1207 "
       ]
      },
      {
       "output_type": "stream",
       "stream": "stdout",
       "text": [
        "1240 "
       ]
      },
      {
       "output_type": "stream",
       "stream": "stdout",
       "text": [
        "1269 "
       ]
      },
      {
       "output_type": "stream",
       "stream": "stdout",
       "text": [
        "1296 "
       ]
      },
      {
       "output_type": "stream",
       "stream": "stdout",
       "text": [
        "1324 "
       ]
      },
      {
       "output_type": "stream",
       "stream": "stdout",
       "text": [
        "1349 "
       ]
      },
      {
       "output_type": "stream",
       "stream": "stdout",
       "text": [
        "1373 "
       ]
      },
      {
       "output_type": "stream",
       "stream": "stdout",
       "text": [
        "1390 "
       ]
      },
      {
       "output_type": "stream",
       "stream": "stdout",
       "text": [
        "1415 "
       ]
      },
      {
       "output_type": "stream",
       "stream": "stdout",
       "text": [
        "!\n"
       ]
      }
     ],
     "prompt_number": 5
    },
    {
     "cell_type": "code",
     "collapsed": false,
     "input": [
      "ph.process_bulk_data(2009)"
     ],
     "language": "python",
     "metadata": {},
     "outputs": [
      {
       "output_type": "stream",
       "stream": "stdout",
       "text": [
        "26 "
       ]
      },
      {
       "output_type": "stream",
       "stream": "stdout",
       "text": [
        "50 "
       ]
      },
      {
       "output_type": "stream",
       "stream": "stdout",
       "text": [
        "72 "
       ]
      },
      {
       "output_type": "stream",
       "stream": "stdout",
       "text": [
        "101 "
       ]
      },
      {
       "output_type": "stream",
       "stream": "stdout",
       "text": [
        "126 "
       ]
      },
      {
       "output_type": "stream",
       "stream": "stdout",
       "text": [
        "150 "
       ]
      },
      {
       "output_type": "stream",
       "stream": "stdout",
       "text": [
        "178 "
       ]
      },
      {
       "output_type": "stream",
       "stream": "stdout",
       "text": [
        "204 "
       ]
      },
      {
       "output_type": "stream",
       "stream": "stdout",
       "text": [
        "231 "
       ]
      },
      {
       "output_type": "stream",
       "stream": "stdout",
       "text": [
        "254 "
       ]
      },
      {
       "output_type": "stream",
       "stream": "stdout",
       "text": [
        "282 "
       ]
      },
      {
       "output_type": "stream",
       "stream": "stdout",
       "text": [
        "309 "
       ]
      },
      {
       "output_type": "stream",
       "stream": "stdout",
       "text": [
        "334 "
       ]
      },
      {
       "output_type": "stream",
       "stream": "stdout",
       "text": [
        "362 "
       ]
      },
      {
       "output_type": "stream",
       "stream": "stdout",
       "text": [
        "388 "
       ]
      },
      {
       "output_type": "stream",
       "stream": "stdout",
       "text": [
        "415 "
       ]
      },
      {
       "output_type": "stream",
       "stream": "stdout",
       "text": [
        "441 "
       ]
      },
      {
       "output_type": "stream",
       "stream": "stdout",
       "text": [
        "465 "
       ]
      },
      {
       "output_type": "stream",
       "stream": "stdout",
       "text": [
        "490 "
       ]
      },
      {
       "output_type": "stream",
       "stream": "stdout",
       "text": [
        "517 "
       ]
      },
      {
       "output_type": "stream",
       "stream": "stdout",
       "text": [
        "544 "
       ]
      },
      {
       "output_type": "stream",
       "stream": "stdout",
       "text": [
        "569 "
       ]
      },
      {
       "output_type": "stream",
       "stream": "stdout",
       "text": [
        "595 "
       ]
      },
      {
       "output_type": "stream",
       "stream": "stdout",
       "text": [
        "617 "
       ]
      },
      {
       "output_type": "stream",
       "stream": "stdout",
       "text": [
        "643 "
       ]
      },
      {
       "output_type": "stream",
       "stream": "stdout",
       "text": [
        "672 "
       ]
      },
      {
       "output_type": "stream",
       "stream": "stdout",
       "text": [
        "700 "
       ]
      },
      {
       "output_type": "stream",
       "stream": "stdout",
       "text": [
        "726 "
       ]
      },
      {
       "output_type": "stream",
       "stream": "stdout",
       "text": [
        "753 "
       ]
      },
      {
       "output_type": "stream",
       "stream": "stdout",
       "text": [
        "774 "
       ]
      },
      {
       "output_type": "stream",
       "stream": "stdout",
       "text": [
        "800 "
       ]
      },
      {
       "output_type": "stream",
       "stream": "stdout",
       "text": [
        "826 "
       ]
      },
      {
       "output_type": "stream",
       "stream": "stdout",
       "text": [
        "852 "
       ]
      },
      {
       "output_type": "stream",
       "stream": "stdout",
       "text": [
        "878 "
       ]
      },
      {
       "output_type": "stream",
       "stream": "stdout",
       "text": [
        "905 "
       ]
      },
      {
       "output_type": "stream",
       "stream": "stdout",
       "text": [
        "932 "
       ]
      },
      {
       "output_type": "stream",
       "stream": "stdout",
       "text": [
        "961 "
       ]
      },
      {
       "output_type": "stream",
       "stream": "stdout",
       "text": [
        "988 "
       ]
      },
      {
       "output_type": "stream",
       "stream": "stdout",
       "text": [
        "1009 "
       ]
      },
      {
       "output_type": "stream",
       "stream": "stdout",
       "text": [
        "1037 "
       ]
      },
      {
       "output_type": "stream",
       "stream": "stdout",
       "text": [
        "1067 "
       ]
      },
      {
       "output_type": "stream",
       "stream": "stdout",
       "text": [
        "1097 "
       ]
      },
      {
       "output_type": "stream",
       "stream": "stdout",
       "text": [
        "1126 "
       ]
      },
      {
       "output_type": "stream",
       "stream": "stdout",
       "text": [
        "1153 "
       ]
      },
      {
       "output_type": "stream",
       "stream": "stdout",
       "text": [
        "1183 "
       ]
      },
      {
       "output_type": "stream",
       "stream": "stdout",
       "text": [
        "1214 "
       ]
      },
      {
       "output_type": "stream",
       "stream": "stdout",
       "text": [
        "1246 "
       ]
      },
      {
       "output_type": "stream",
       "stream": "stdout",
       "text": [
        "1274 "
       ]
      },
      {
       "output_type": "stream",
       "stream": "stdout",
       "text": [
        "1304 "
       ]
      },
      {
       "output_type": "stream",
       "stream": "stdout",
       "text": [
        "1333 "
       ]
      },
      {
       "output_type": "stream",
       "stream": "stdout",
       "text": [
        "1355 "
       ]
      },
      {
       "output_type": "stream",
       "stream": "stdout",
       "text": [
        "1386 "
       ]
      },
      {
       "output_type": "stream",
       "stream": "stdout",
       "text": [
        "!\n"
       ]
      }
     ],
     "prompt_number": 6
    },
    {
     "cell_type": "code",
     "collapsed": false,
     "input": [
      "ph.process_bulk_data(2010)"
     ],
     "language": "python",
     "metadata": {},
     "outputs": [
      {
       "output_type": "stream",
       "stream": "stdout",
       "text": [
        "32 "
       ]
      },
      {
       "output_type": "stream",
       "stream": "stdout",
       "text": [
        "62 "
       ]
      },
      {
       "output_type": "stream",
       "stream": "stdout",
       "text": [
        "88 "
       ]
      },
      {
       "output_type": "stream",
       "stream": "stdout",
       "text": [
        "116 "
       ]
      },
      {
       "output_type": "stream",
       "stream": "stdout",
       "text": [
        "146 "
       ]
      },
      {
       "output_type": "stream",
       "stream": "stdout",
       "text": [
        "171 "
       ]
      },
      {
       "output_type": "stream",
       "stream": "stdout",
       "text": [
        "198 "
       ]
      },
      {
       "output_type": "stream",
       "stream": "stdout",
       "text": [
        "231 "
       ]
      },
      {
       "output_type": "stream",
       "stream": "stdout",
       "text": [
        "261 "
       ]
      },
      {
       "output_type": "stream",
       "stream": "stdout",
       "text": [
        "287 "
       ]
      },
      {
       "output_type": "stream",
       "stream": "stdout",
       "text": [
        "318 "
       ]
      },
      {
       "output_type": "stream",
       "stream": "stdout",
       "text": [
        "349 "
       ]
      },
      {
       "output_type": "stream",
       "stream": "stdout",
       "text": [
        "379 "
       ]
      },
      {
       "output_type": "stream",
       "stream": "stdout",
       "text": [
        "408 "
       ]
      },
      {
       "output_type": "stream",
       "stream": "stdout",
       "text": [
        "438 "
       ]
      },
      {
       "output_type": "stream",
       "stream": "stdout",
       "text": [
        "471 "
       ]
      },
      {
       "output_type": "stream",
       "stream": "stdout",
       "text": [
        "502 "
       ]
      },
      {
       "output_type": "stream",
       "stream": "stdout",
       "text": [
        "536 "
       ]
      },
      {
       "output_type": "stream",
       "stream": "stdout",
       "text": [
        "569 "
       ]
      },
      {
       "output_type": "stream",
       "stream": "stdout",
       "text": [
        "603 "
       ]
      },
      {
       "output_type": "stream",
       "stream": "stdout",
       "text": [
        "638 "
       ]
      },
      {
       "output_type": "stream",
       "stream": "stdout",
       "text": [
        "673 "
       ]
      },
      {
       "output_type": "stream",
       "stream": "stdout",
       "text": [
        "708 "
       ]
      },
      {
       "output_type": "stream",
       "stream": "stdout",
       "text": [
        "744 "
       ]
      },
      {
       "output_type": "stream",
       "stream": "stdout",
       "text": [
        "774 "
       ]
      },
      {
       "output_type": "stream",
       "stream": "stdout",
       "text": [
        "810 "
       ]
      },
      {
       "output_type": "stream",
       "stream": "stdout",
       "text": [
        "846 "
       ]
      },
      {
       "output_type": "stream",
       "stream": "stdout",
       "text": [
        "877 "
       ]
      },
      {
       "output_type": "stream",
       "stream": "stdout",
       "text": [
        "911 "
       ]
      },
      {
       "output_type": "stream",
       "stream": "stdout",
       "text": [
        "939 "
       ]
      },
      {
       "output_type": "stream",
       "stream": "stdout",
       "text": [
        "975 "
       ]
      },
      {
       "output_type": "stream",
       "stream": "stdout",
       "text": [
        "1012 "
       ]
      },
      {
       "output_type": "stream",
       "stream": "stdout",
       "text": [
        "1050 "
       ]
      },
      {
       "output_type": "stream",
       "stream": "stdout",
       "text": [
        "1086 "
       ]
      },
      {
       "output_type": "stream",
       "stream": "stdout",
       "text": [
        "1120 "
       ]
      },
      {
       "output_type": "stream",
       "stream": "stdout",
       "text": [
        "1155 "
       ]
      },
      {
       "output_type": "stream",
       "stream": "stdout",
       "text": [
        "1187 "
       ]
      },
      {
       "output_type": "stream",
       "stream": "stdout",
       "text": [
        "1222 "
       ]
      },
      {
       "output_type": "stream",
       "stream": "stdout",
       "text": [
        "1250 "
       ]
      },
      {
       "output_type": "stream",
       "stream": "stdout",
       "text": [
        "1281 "
       ]
      },
      {
       "output_type": "stream",
       "stream": "stdout",
       "text": [
        "1317 "
       ]
      },
      {
       "output_type": "stream",
       "stream": "stdout",
       "text": [
        "1352 "
       ]
      },
      {
       "output_type": "stream",
       "stream": "stdout",
       "text": [
        "1391 "
       ]
      },
      {
       "output_type": "stream",
       "stream": "stdout",
       "text": [
        "1425 "
       ]
      },
      {
       "output_type": "stream",
       "stream": "stdout",
       "text": [
        "1460 "
       ]
      },
      {
       "output_type": "stream",
       "stream": "stdout",
       "text": [
        "1494 "
       ]
      },
      {
       "output_type": "stream",
       "stream": "stdout",
       "text": [
        "1527 "
       ]
      },
      {
       "output_type": "stream",
       "stream": "stdout",
       "text": [
        "1559 "
       ]
      },
      {
       "output_type": "stream",
       "stream": "stdout",
       "text": [
        "1595 "
       ]
      },
      {
       "output_type": "stream",
       "stream": "stdout",
       "text": [
        "1630 "
       ]
      },
      {
       "output_type": "stream",
       "stream": "stdout",
       "text": [
        "1650 "
       ]
      },
      {
       "output_type": "stream",
       "stream": "stdout",
       "text": [
        "1687 "
       ]
      },
      {
       "output_type": "stream",
       "stream": "stdout",
       "text": [
        "!\n"
       ]
      }
     ],
     "prompt_number": 7
    },
    {
     "cell_type": "code",
     "collapsed": false,
     "input": [
      "ph.process_bulk_data(2011)"
     ],
     "language": "python",
     "metadata": {},
     "outputs": [
      {
       "output_type": "stream",
       "stream": "stdout",
       "text": [
        "34 "
       ]
      },
      {
       "output_type": "stream",
       "stream": "stdout",
       "text": [
        "70 "
       ]
      },
      {
       "output_type": "stream",
       "stream": "stdout",
       "text": [
        "95 "
       ]
      },
      {
       "output_type": "stream",
       "stream": "stdout",
       "text": [
        "125 "
       ]
      },
      {
       "output_type": "stream",
       "stream": "stdout",
       "text": [
        "162 "
       ]
      },
      {
       "output_type": "stream",
       "stream": "stdout",
       "text": [
        "191 "
       ]
      },
      {
       "output_type": "stream",
       "stream": "stdout",
       "text": [
        "228 "
       ]
      },
      {
       "output_type": "stream",
       "stream": "stdout",
       "text": [
        "263 "
       ]
      },
      {
       "output_type": "stream",
       "stream": "stdout",
       "text": [
        "299 "
       ]
      },
      {
       "output_type": "stream",
       "stream": "stdout",
       "text": [
        "338 "
       ]
      },
      {
       "output_type": "stream",
       "stream": "stdout",
       "text": [
        "369 "
       ]
      },
      {
       "output_type": "stream",
       "stream": "stdout",
       "text": [
        "406 "
       ]
      },
      {
       "output_type": "stream",
       "stream": "stdout",
       "text": [
        "445 "
       ]
      },
      {
       "output_type": "stream",
       "stream": "stdout",
       "text": [
        "475 "
       ]
      },
      {
       "output_type": "stream",
       "stream": "stdout",
       "text": [
        "510 "
       ]
      },
      {
       "output_type": "stream",
       "stream": "stdout",
       "text": [
        "546 "
       ]
      },
      {
       "output_type": "stream",
       "stream": "stdout",
       "text": [
        "576 "
       ]
      },
      {
       "output_type": "stream",
       "stream": "stdout",
       "text": [
        "606 "
       ]
      },
      {
       "output_type": "stream",
       "stream": "stdout",
       "text": [
        "638 "
       ]
      },
      {
       "output_type": "stream",
       "stream": "stdout",
       "text": [
        "672 "
       ]
      },
      {
       "output_type": "stream",
       "stream": "stdout",
       "text": [
        "707 "
       ]
      },
      {
       "output_type": "stream",
       "stream": "stdout",
       "text": [
        "741 "
       ]
      },
      {
       "output_type": "stream",
       "stream": "stdout",
       "text": [
        "776 "
       ]
      },
      {
       "output_type": "stream",
       "stream": "stdout",
       "text": [
        "814 "
       ]
      },
      {
       "output_type": "stream",
       "stream": "stdout",
       "text": [
        "846 "
       ]
      },
      {
       "output_type": "stream",
       "stream": "stdout",
       "text": [
        "883 "
       ]
      },
      {
       "output_type": "stream",
       "stream": "stdout",
       "text": [
        "914 "
       ]
      },
      {
       "output_type": "stream",
       "stream": "stdout",
       "text": [
        "949 "
       ]
      },
      {
       "output_type": "stream",
       "stream": "stdout",
       "text": [
        "983 "
       ]
      },
      {
       "output_type": "stream",
       "stream": "stdout",
       "text": [
        "1007 "
       ]
      },
      {
       "output_type": "stream",
       "stream": "stdout",
       "text": [
        "1043 "
       ]
      },
      {
       "output_type": "stream",
       "stream": "stdout",
       "text": [
        "1082 "
       ]
      },
      {
       "output_type": "stream",
       "stream": "stdout",
       "text": [
        "1118 "
       ]
      },
      {
       "output_type": "stream",
       "stream": "stdout",
       "text": [
        "1157 "
       ]
      },
      {
       "output_type": "stream",
       "stream": "stdout",
       "text": [
        "1192 "
       ]
      },
      {
       "output_type": "stream",
       "stream": "stdout",
       "text": [
        "1229 "
       ]
      },
      {
       "output_type": "stream",
       "stream": "stdout",
       "text": [
        "1269 "
       ]
      },
      {
       "output_type": "stream",
       "stream": "stdout",
       "text": [
        "1306 "
       ]
      },
      {
       "output_type": "stream",
       "stream": "stdout",
       "text": [
        "1340 "
       ]
      },
      {
       "output_type": "stream",
       "stream": "stdout",
       "text": [
        "1378 "
       ]
      },
      {
       "output_type": "stream",
       "stream": "stdout",
       "text": [
        "1416 "
       ]
      },
      {
       "output_type": "stream",
       "stream": "stdout",
       "text": [
        "1451 "
       ]
      },
      {
       "output_type": "stream",
       "stream": "stdout",
       "text": [
        "1486 "
       ]
      },
      {
       "output_type": "stream",
       "stream": "stdout",
       "text": [
        "1524 "
       ]
      },
      {
       "output_type": "stream",
       "stream": "stdout",
       "text": [
        "1558 "
       ]
      },
      {
       "output_type": "stream",
       "stream": "stdout",
       "text": [
        "1601 "
       ]
      },
      {
       "output_type": "stream",
       "stream": "stdout",
       "text": [
        "1644 "
       ]
      },
      {
       "output_type": "stream",
       "stream": "stdout",
       "text": [
        "1681 "
       ]
      },
      {
       "output_type": "stream",
       "stream": "stdout",
       "text": [
        "1727 "
       ]
      },
      {
       "output_type": "stream",
       "stream": "stdout",
       "text": [
        "1765 "
       ]
      },
      {
       "output_type": "stream",
       "stream": "stdout",
       "text": [
        "1801 "
       ]
      },
      {
       "output_type": "stream",
       "stream": "stdout",
       "text": [
        "1841 "
       ]
      },
      {
       "output_type": "stream",
       "stream": "stdout",
       "text": [
        "!\n"
       ]
      }
     ],
     "prompt_number": 8
    },
    {
     "cell_type": "code",
     "collapsed": false,
     "input": [
      "ph.process_bulk_data(2012)"
     ],
     "language": "python",
     "metadata": {},
     "outputs": [
      {
       "output_type": "stream",
       "stream": "stdout",
       "text": [
        "33 "
       ]
      },
      {
       "output_type": "stream",
       "stream": "stdout",
       "text": [
        "71 "
       ]
      },
      {
       "output_type": "stream",
       "stream": "stdout",
       "text": [
        "102 "
       ]
      },
      {
       "output_type": "stream",
       "stream": "stdout",
       "text": [
        "137 "
       ]
      },
      {
       "output_type": "stream",
       "stream": "stdout",
       "text": [
        "173 "
       ]
      },
      {
       "output_type": "stream",
       "stream": "stdout",
       "text": [
        "206 "
       ]
      },
      {
       "output_type": "stream",
       "stream": "stdout",
       "text": [
        "252 "
       ]
      },
      {
       "output_type": "stream",
       "stream": "stdout",
       "text": [
        "295 "
       ]
      },
      {
       "output_type": "stream",
       "stream": "stdout",
       "text": [
        "332 "
       ]
      },
      {
       "output_type": "stream",
       "stream": "stdout",
       "text": [
        "373 "
       ]
      },
      {
       "output_type": "stream",
       "stream": "stdout",
       "text": [
        "403 "
       ]
      },
      {
       "output_type": "stream",
       "stream": "stdout",
       "text": [
        "440 "
       ]
      },
      {
       "output_type": "stream",
       "stream": "stdout",
       "text": [
        "476 "
       ]
      },
      {
       "output_type": "stream",
       "stream": "stdout",
       "text": [
        "518 "
       ]
      },
      {
       "output_type": "stream",
       "stream": "stdout",
       "text": [
        "557 "
       ]
      },
      {
       "output_type": "stream",
       "stream": "stdout",
       "text": [
        "598 "
       ]
      },
      {
       "output_type": "stream",
       "stream": "stdout",
       "text": [
        "640 "
       ]
      },
      {
       "output_type": "stream",
       "stream": "stdout",
       "text": [
        "679 "
       ]
      },
      {
       "output_type": "stream",
       "stream": "stdout",
       "text": [
        "723 "
       ]
      },
      {
       "output_type": "stream",
       "stream": "stdout",
       "text": [
        "759 "
       ]
      },
      {
       "output_type": "stream",
       "stream": "stdout",
       "text": [
        "796 "
       ]
      },
      {
       "output_type": "stream",
       "stream": "stdout",
       "text": [
        "840 "
       ]
      },
      {
       "output_type": "stream",
       "stream": "stdout",
       "text": [
        "880 "
       ]
      },
      {
       "output_type": "stream",
       "stream": "stdout",
       "text": [
        "921 "
       ]
      },
      {
       "output_type": "stream",
       "stream": "stdout",
       "text": [
        "954 "
       ]
      },
      {
       "output_type": "stream",
       "stream": "stdout",
       "text": [
        "991 "
       ]
      },
      {
       "output_type": "stream",
       "stream": "stdout",
       "text": [
        "1033 "
       ]
      },
      {
       "output_type": "stream",
       "stream": "stdout",
       "text": [
        "1072 "
       ]
      },
      {
       "output_type": "stream",
       "stream": "stdout",
       "text": [
        "1117 "
       ]
      },
      {
       "output_type": "stream",
       "stream": "stdout",
       "text": [
        "1161 "
       ]
      },
      {
       "output_type": "stream",
       "stream": "stdout",
       "text": [
        "1198 "
       ]
      },
      {
       "output_type": "stream",
       "stream": "stdout",
       "text": [
        "1245 "
       ]
      },
      {
       "output_type": "stream",
       "stream": "stdout",
       "text": [
        "1286 "
       ]
      },
      {
       "output_type": "stream",
       "stream": "stdout",
       "text": [
        "1325 "
       ]
      },
      {
       "output_type": "stream",
       "stream": "stdout",
       "text": [
        "1367 "
       ]
      },
      {
       "output_type": "stream",
       "stream": "stdout",
       "text": [
        "1409 "
       ]
      },
      {
       "output_type": "stream",
       "stream": "stdout",
       "text": [
        "1456 "
       ]
      },
      {
       "output_type": "stream",
       "stream": "stdout",
       "text": [
        "1501 "
       ]
      },
      {
       "output_type": "stream",
       "stream": "stdout",
       "text": [
        "1537 "
       ]
      },
      {
       "output_type": "stream",
       "stream": "stdout",
       "text": [
        "1576 "
       ]
      },
      {
       "output_type": "stream",
       "stream": "stdout",
       "text": [
        "1616 "
       ]
      },
      {
       "output_type": "stream",
       "stream": "stdout",
       "text": [
        "1660 "
       ]
      },
      {
       "output_type": "stream",
       "stream": "stdout",
       "text": [
        "1704 "
       ]
      },
      {
       "output_type": "stream",
       "stream": "stdout",
       "text": [
        "1744 "
       ]
      },
      {
       "output_type": "stream",
       "stream": "stdout",
       "text": [
        "1785 "
       ]
      },
      {
       "output_type": "stream",
       "stream": "stdout",
       "text": [
        "1828 "
       ]
      },
      {
       "output_type": "stream",
       "stream": "stdout",
       "text": [
        "1864 "
       ]
      },
      {
       "output_type": "stream",
       "stream": "stdout",
       "text": [
        "1907 "
       ]
      },
      {
       "output_type": "stream",
       "stream": "stdout",
       "text": [
        "1952 "
       ]
      },
      {
       "output_type": "stream",
       "stream": "stdout",
       "text": [
        "1997 "
       ]
      },
      {
       "output_type": "stream",
       "stream": "stdout",
       "text": [
        "2024 "
       ]
      },
      {
       "output_type": "stream",
       "stream": "stdout",
       "text": [
        "2068 "
       ]
      },
      {
       "output_type": "stream",
       "stream": "stdout",
       "text": [
        "!\n"
       ]
      }
     ],
     "prompt_number": 9
    },
    {
     "cell_type": "code",
     "collapsed": false,
     "input": [
      "ph.process_bulk_data(2013)"
     ],
     "language": "python",
     "metadata": {},
     "outputs": [
      {
       "output_type": "stream",
       "stream": "stdout",
       "text": [
        "46 "
       ]
      },
      {
       "output_type": "stream",
       "stream": "stdout",
       "text": [
        "94 "
       ]
      },
      {
       "output_type": "stream",
       "stream": "stdout",
       "text": [
        "123 "
       ]
      },
      {
       "output_type": "stream",
       "stream": "stdout",
       "text": [
        "149 "
       ]
      },
      {
       "output_type": "stream",
       "stream": "stdout",
       "text": [
        "199 "
       ]
      },
      {
       "output_type": "stream",
       "stream": "stdout",
       "text": [
        "246 "
       ]
      },
      {
       "output_type": "stream",
       "stream": "stdout",
       "text": [
        "281 "
       ]
      },
      {
       "output_type": "stream",
       "stream": "stdout",
       "text": [
        "328 "
       ]
      },
      {
       "output_type": "stream",
       "stream": "stdout",
       "text": [
        "378 "
       ]
      },
      {
       "output_type": "stream",
       "stream": "stdout",
       "text": [
        "423 "
       ]
      },
      {
       "output_type": "stream",
       "stream": "stdout",
       "text": [
        "462 "
       ]
      },
      {
       "output_type": "stream",
       "stream": "stdout",
       "text": [
        "507 "
       ]
      },
      {
       "output_type": "stream",
       "stream": "stdout",
       "text": [
        "549 "
       ]
      },
      {
       "output_type": "stream",
       "stream": "stdout",
       "text": [
        "595 "
       ]
      },
      {
       "output_type": "stream",
       "stream": "stdout",
       "text": [
        "637 "
       ]
      },
      {
       "output_type": "stream",
       "stream": "stdout",
       "text": [
        "680 "
       ]
      },
      {
       "output_type": "stream",
       "stream": "stdout",
       "text": [
        "727 "
       ]
      },
      {
       "output_type": "stream",
       "stream": "stdout",
       "text": [
        "766 "
       ]
      },
      {
       "output_type": "stream",
       "stream": "stdout",
       "text": [
        "805 "
       ]
      },
      {
       "output_type": "stream",
       "stream": "stdout",
       "text": [
        "845 "
       ]
      },
      {
       "output_type": "stream",
       "stream": "stdout",
       "text": [
        "886 "
       ]
      },
      {
       "output_type": "stream",
       "stream": "stdout",
       "text": [
        "928 "
       ]
      },
      {
       "output_type": "stream",
       "stream": "stdout",
       "text": [
        "973 "
       ]
      },
      {
       "output_type": "stream",
       "stream": "stdout",
       "text": [
        "1020 "
       ]
      },
      {
       "output_type": "stream",
       "stream": "stdout",
       "text": [
        "1058 "
       ]
      },
      {
       "output_type": "stream",
       "stream": "stdout",
       "text": [
        "1103 "
       ]
      },
      {
       "output_type": "stream",
       "stream": "stdout",
       "text": [
        "1147 "
       ]
      },
      {
       "output_type": "stream",
       "stream": "stdout",
       "text": [
        "1185 "
       ]
      },
      {
       "output_type": "stream",
       "stream": "stdout",
       "text": [
        "1226 "
       ]
      },
      {
       "output_type": "stream",
       "stream": "stdout",
       "text": [
        "1267 "
       ]
      },
      {
       "output_type": "stream",
       "stream": "stdout",
       "text": [
        "1313 "
       ]
      },
      {
       "output_type": "stream",
       "stream": "stdout",
       "text": [
        "1358 "
       ]
      },
      {
       "output_type": "stream",
       "stream": "stdout",
       "text": [
        "1396 "
       ]
      },
      {
       "output_type": "stream",
       "stream": "stdout",
       "text": [
        "1444 "
       ]
      },
      {
       "output_type": "stream",
       "stream": "stdout",
       "text": [
        "1486 "
       ]
      },
      {
       "output_type": "stream",
       "stream": "stdout",
       "text": [
        "1534 "
       ]
      },
      {
       "output_type": "stream",
       "stream": "stdout",
       "text": [
        "1582 "
       ]
      },
      {
       "output_type": "stream",
       "stream": "stdout",
       "text": [
        "1629 "
       ]
      },
      {
       "output_type": "stream",
       "stream": "stdout",
       "text": [
        "1659 "
       ]
      },
      {
       "output_type": "stream",
       "stream": "stdout",
       "text": [
        "1708 "
       ]
      },
      {
       "output_type": "stream",
       "stream": "stdout",
       "text": [
        "1759 "
       ]
      },
      {
       "output_type": "stream",
       "stream": "stdout",
       "text": [
        "1812 "
       ]
      },
      {
       "output_type": "stream",
       "stream": "stdout",
       "text": [
        "1860 "
       ]
      },
      {
       "output_type": "stream",
       "stream": "stdout",
       "text": [
        "1908 "
       ]
      },
      {
       "output_type": "stream",
       "stream": "stdout",
       "text": [
        "1957 "
       ]
      },
      {
       "output_type": "stream",
       "stream": "stdout",
       "text": [
        "2007 "
       ]
      },
      {
       "output_type": "stream",
       "stream": "stdout",
       "text": [
        "2053 "
       ]
      },
      {
       "output_type": "stream",
       "stream": "stdout",
       "text": [
        "2106 "
       ]
      },
      {
       "output_type": "stream",
       "stream": "stdout",
       "text": [
        "2157 "
       ]
      },
      {
       "output_type": "stream",
       "stream": "stdout",
       "text": [
        "2210 "
       ]
      },
      {
       "output_type": "stream",
       "stream": "stdout",
       "text": [
        "2261 "
       ]
      },
      {
       "output_type": "stream",
       "stream": "stdout",
       "text": [
        "2314 "
       ]
      },
      {
       "output_type": "stream",
       "stream": "stdout",
       "text": [
        "2368 "
       ]
      },
      {
       "output_type": "stream",
       "stream": "stdout",
       "text": [
        "2419 "
       ]
      },
      {
       "output_type": "stream",
       "stream": "stdout",
       "text": [
        "2471 "
       ]
      },
      {
       "output_type": "stream",
       "stream": "stdout",
       "text": [
        "2522 "
       ]
      },
      {
       "output_type": "stream",
       "stream": "stdout",
       "text": [
        "2577 "
       ]
      },
      {
       "output_type": "stream",
       "stream": "stdout",
       "text": [
        "2630 "
       ]
      },
      {
       "output_type": "stream",
       "stream": "stdout",
       "text": [
        "2681 "
       ]
      },
      {
       "output_type": "stream",
       "stream": "stdout",
       "text": [
        "2708 "
       ]
      },
      {
       "output_type": "stream",
       "stream": "stdout",
       "text": [
        "2765 "
       ]
      },
      {
       "output_type": "stream",
       "stream": "stdout",
       "text": [
        "!\n"
       ]
      }
     ],
     "prompt_number": 10
    },
    {
     "cell_type": "code",
     "collapsed": false,
     "input": [
      "ph.process_bulk_data(2014)"
     ],
     "language": "python",
     "metadata": {},
     "outputs": [
      {
       "output_type": "stream",
       "stream": "stdout",
       "text": [
        "49 "
       ]
      },
      {
       "output_type": "stream",
       "stream": "stdout",
       "text": [
        "87 "
       ]
      },
      {
       "output_type": "stream",
       "stream": "stdout",
       "text": [
        "126 "
       ]
      },
      {
       "output_type": "stream",
       "stream": "stdout",
       "text": [
        "168 "
       ]
      },
      {
       "output_type": "stream",
       "stream": "stdout",
       "text": [
        "213 "
       ]
      },
      {
       "output_type": "stream",
       "stream": "stdout",
       "text": [
        "246 "
       ]
      },
      {
       "output_type": "stream",
       "stream": "stdout",
       "text": [
        "286 "
       ]
      },
      {
       "output_type": "stream",
       "stream": "stdout",
       "text": [
        "321 "
       ]
      },
      {
       "output_type": "stream",
       "stream": "stdout",
       "text": [
        "361 "
       ]
      },
      {
       "output_type": "stream",
       "stream": "stdout",
       "text": [
        "388 "
       ]
      },
      {
       "output_type": "stream",
       "stream": "stdout",
       "text": [
        "429 "
       ]
      },
      {
       "output_type": "stream",
       "stream": "stdout",
       "text": [
        "466 "
       ]
      },
      {
       "output_type": "stream",
       "stream": "stdout",
       "text": [
        "505 "
       ]
      },
      {
       "output_type": "stream",
       "stream": "stdout",
       "text": [
        "541 "
       ]
      },
      {
       "output_type": "stream",
       "stream": "stdout",
       "text": [
        "579 "
       ]
      },
      {
       "output_type": "stream",
       "stream": "stdout",
       "text": [
        "!\n"
       ]
      }
     ],
     "prompt_number": 11
    },
    {
     "cell_type": "code",
     "collapsed": false,
     "input": [],
     "language": "python",
     "metadata": {},
     "outputs": []
    },
    {
     "cell_type": "raw",
     "metadata": {},
     "source": [
      "for year in xrange(2010,2015):\n",
      "    ph.process_bulk_data(year)"
     ]
    },
    {
     "cell_type": "code",
     "collapsed": false,
     "input": [
      "f = shelve.open('patents2005.shlf','r')\n",
      "i=0\n",
      "for key,value in f.iteritems():\n",
      "    i += 1\n",
      "    if i < 5: print key,value.title\n",
      "print i\n",
      "f.close()"
     ],
     "language": "python",
     "metadata": {},
     "outputs": []
    },
    {
     "cell_type": "code",
     "collapsed": false,
     "input": [
      "f = shelve.open('patents2006.shlf','r')\n",
      "print len(f)\n",
      "f.close()"
     ],
     "language": "python",
     "metadata": {},
     "outputs": []
    },
    {
     "cell_type": "code",
     "collapsed": false,
     "input": [
      "for citation in patents['US08627817'].citing:\n",
      "    try:\n",
      "        print patents[citation].patnum\n",
      "    except:\n",
      "        pass"
     ],
     "language": "python",
     "metadata": {},
     "outputs": []
    }
   ],
   "metadata": {}
  }
 ]
}